{
 "cells": [
  {
   "cell_type": "code",
   "execution_count": 3,
   "metadata": {},
   "outputs": [
    {
     "name": "stdout",
     "output_type": "stream",
     "text": [
      "\n",
      "0: 448x640 16 persons, 9 bicycles, 24 cars, 16 motorcycles, 6 airplanes, 6 buss, 2 trains, 5 trucks, 1 boat, 2 traffic lights, 3 fire hydrants, 1 stop sign, 13 parking meters, 13 benchs, 1 cat, 5 sheeps, 3 giraffes, 3 backpacks, 5 umbrellas, 3 handbags, 17 ties, 1 suitcase, 11 frisbees, 2 skiss, 5 kites, 18 baseball bats, 1 baseball glove, 1 bottle, 2 cups, 2 forks, 19 bananas, 3 apples, 1 sandwich, 5 carrots, 2 hot dogs, 10 pizzas, 1 donut, 3 chairs, 1 couch, 25 potted plants, 5 beds, 3 dining tables, 2 mouses, 3 remotes, 5 keyboards, 1 toaster, 2 refrigerators, 1 clock, 2 vases, 6 scissorss, 3 hair driers, 10987.4ms\n",
      "Speed: 15.6ms preprocess, 10987.4ms inference, 7.6ms postprocess per image at shape (1, 3, 448, 640)\n"
     ]
    }
   ],
   "source": [
    "from ultralytics import YOLO\n",
    "# Load a model\n",
    "model = YOLO(\"yolov8m.pt\")  # pretrained YOLOv8n model\n",
    "# Run batched inference on a list of images\n",
    "results = model([\"Drupal-NEWS_Childrens-hospital-operating-rooms.jpg\"])  # return a list of Results objects\n",
    "# Process results list\n",
    "for result in results:\n",
    "    boxes = result.boxes  # Boxes object for bounding box outputs\n",
    "    masks = result.masks  # Masks object for segmentation masks outputs\n",
    "    keypoints = result.keypoints  # Keypoints object for pose outputs\n",
    "    probs = result.probs  # Probs object for classification outputs\n",
    "    obb = result.obb  # Oriented boxes object for OBB outputs\n",
    "    result.show()  # display to screen\n",
    "    result.save(filename=\"result.jpg\")  # save to disk"
   ]
  }
 ],
 "metadata": {
  "kernelspec": {
   "display_name": "dev",
   "language": "python",
   "name": "python3"
  },
  "language_info": {
   "codemirror_mode": {
    "name": "ipython",
    "version": 3
   },
   "file_extension": ".py",
   "mimetype": "text/x-python",
   "name": "python",
   "nbconvert_exporter": "python",
   "pygments_lexer": "ipython3",
   "version": "3.10.14"
  }
 },
 "nbformat": 4,
 "nbformat_minor": 2
}
